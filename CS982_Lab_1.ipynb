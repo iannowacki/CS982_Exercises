{
 "cells": [
  {
   "cell_type": "code",
   "execution_count": null,
   "metadata": {},
   "outputs": [],
   "source": [
    "Write a Python program to get the Python version you are using and print it out"
   ]
  },
  {
   "cell_type": "code",
   "execution_count": 10,
   "metadata": {},
   "outputs": [
    {
     "name": "stdout",
     "output_type": "stream",
     "text": [
      "3.7.3 (default, Mar 27 2019, 16:54:48) \n",
      "[Clang 4.0.1 (tags/RELEASE_401/final)]\n"
     ]
    }
   ],
   "source": [
    "import sys\n",
    "print(sys.version)"
   ]
  },
  {
   "cell_type": "code",
   "execution_count": null,
   "metadata": {},
   "outputs": [],
   "source": [
    "Write a Python program to print the following as shown\n",
    "Baa, baa, black sheep\n",
    "        Have you any wool?\n",
    "    Yes sir, yes sir\n",
    "            Three bags full.\n",
    "One for my master\n",
    "    And one for the dame\n",
    "One for the little boy \n",
    "Who lives down the lane.\n"
   ]
  },
  {
   "cell_type": "code",
   "execution_count": 11,
   "metadata": {},
   "outputs": [
    {
     "name": "stdout",
     "output_type": "stream",
     "text": [
      "Baa, baa, black sheep \n",
      "\tHave you any wool?\n",
      "    Yes sir, yes sir \n",
      "\t    Three bags full.\n",
      "One for my master \n",
      "   And one for the dame\n",
      "One for the little boy\n",
      "Who lives down the lane. \n"
     ]
    }
   ],
   "source": [
    "print(\n",
    "\"Baa, baa, black sheep \\n\\tHave you any wool?\\n    Yes sir, yes sir \\n\\t    Three bags full.\\nOne for my master \\n   And one for the dame\\nOne for the little boy\\nWho lives down the lane. \"\n",
    ")"
   ]
  },
  {
   "cell_type": "code",
   "execution_count": null,
   "metadata": {},
   "outputs": [],
   "source": [
    "Write a Python program to count the numbers of even and odd numbers from a series of numbers"
   ]
  },
  {
   "cell_type": "code",
   "execution_count": 13,
   "metadata": {},
   "outputs": [
    {
     "name": "stdout",
     "output_type": "stream",
     "text": [
      "How many random integers would you like?\n",
      "\t50\n",
      "\n",
      "List of random numbers:\n",
      " \t [58, 649, 274, 547, 715, 274, 389, 825, 479, 880, 123, 998, 913, 846, 669, 956, 150, 372, 940, 400, 996, 425, 311, 344, 748, 893, 66, 743, 836, 36, 712, 553, 392, 90, 327, 119, 823, 191, 662, 609, 256, 675, 869, 52, 612, 83, 602, 585, 934, 172]\n",
      "\n",
      "Count of even numbers: 27\n",
      "Count of odd numbers: 23\n"
     ]
    }
   ],
   "source": [
    "import random\n",
    "\n",
    "howManyNums = int(input(\"How many random integers would you like?\\n\\t\"))\n",
    "randInts = []\n",
    "\n",
    "evensCount = []\n",
    "\n",
    "for i in range(0,howManyNums):\n",
    "    n = random.randint(1, 1000)\n",
    "    randInts.append(n)\n",
    "\n",
    "\n",
    "for i in randInts:\n",
    "    if i%2 == 0:\n",
    "        evensCount.append(1)\n",
    "\n",
    "print(\"\\nList of random numbers:\\n \\t {}\".format(randInts))        \n",
    "print(\"\\nCount of even numbers: {}\".format(len(evensCount)))\n",
    "print(\"Count of odd numbers: {}\".format(howManyNums - (len(evensCount))))"
   ]
  },
  {
   "cell_type": "code",
   "execution_count": null,
   "metadata": {},
   "outputs": [],
   "source": [
    "Write a Python program that prints all the numbers from 0 to 50 except 37 and 16"
   ]
  },
  {
   "cell_type": "code",
   "execution_count": 16,
   "metadata": {},
   "outputs": [
    {
     "name": "stdout",
     "output_type": "stream",
     "text": [
      "[0, 1, 2, 3, 4, 5, 6, 7, 8, 9, 10, 11, 12, 13, 14, 15, 17, 18, 19, 20, 21, 22, 23, 24, 25, 26, 27, 28, 29, 30, 31, 32, 33, 34, 35, 36, 38, 39, 40, 41, 42, 43, 44, 45, 46, 47, 48, 49, 50]\n"
     ]
    }
   ],
   "source": [
    "list = []\n",
    "\n",
    "for i in range(0,51):\n",
    "    if (i != 16) & (i != 37):\n",
    "        list.append(i)\n",
    "        \n",
    "print(list)"
   ]
  },
  {
   "cell_type": "code",
   "execution_count": null,
   "metadata": {},
   "outputs": [],
   "source": [
    "Write a Python program to get the Fibonacci series between 0 and 100. The Fibonacci Sequence is the series of numbers:\n",
    "    0, 1, 1, 2, 3, 5, 8, 13, 21, 34, ... The next number is found by adding up the two numbers before it"
   ]
  },
  {
   "cell_type": "code",
   "execution_count": 21,
   "metadata": {},
   "outputs": [
    {
     "name": "stdout",
     "output_type": "stream",
     "text": [
      "[0, 1, 1, 2, 3, 5, 8, 13, 21, 34, 55, 89]\n"
     ]
    }
   ],
   "source": [
    "fibNums = [0, 1]\n",
    "\n",
    "i = 2\n",
    "\n",
    "while True:\n",
    "    x = (fibNums[i-1]) + (fibNums[i-2])\n",
    "    if x >100:\n",
    "        break\n",
    "    fibNums.append(x)\n",
    "    i += 1\n",
    "\n",
    "    \n",
    "print(fibNums)"
   ]
  },
  {
   "cell_type": "code",
   "execution_count": null,
   "metadata": {},
   "outputs": [],
   "source": []
  }
 ],
 "metadata": {
  "kernelspec": {
   "display_name": "Python 3",
   "language": "python",
   "name": "python3"
  },
  "language_info": {
   "codemirror_mode": {
    "name": "ipython",
    "version": 3
   },
   "file_extension": ".py",
   "mimetype": "text/x-python",
   "name": "python",
   "nbconvert_exporter": "python",
   "pygments_lexer": "ipython3",
   "version": "3.7.3"
  }
 },
 "nbformat": 4,
 "nbformat_minor": 2
}
